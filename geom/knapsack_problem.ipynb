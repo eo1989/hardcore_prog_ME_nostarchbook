{
 "cells": [
  {
   "cell_type": "code",
   "execution_count": 3,
   "metadata": {},
   "outputs": [
    {
     "name": "stdout",
     "output_type": "stream",
     "text": [
      "1.12 µs ± 48 ns per loop (mean ± std. dev. of 7 runs, 1000000 loops each)\n"
     ]
    }
   ],
   "source": [
    "%%timeit\n",
    "def knap(W, N, val, weight):\n",
    "    # Base condition\n",
    "    # No profit in case of 0 capacity/items\n",
    "    if (W == 0 or N == 0):\n",
    "        return 0\n",
    "\n",
    "    # Checking if its poss to incl the item or not\n",
    "    # if the weight xceeds then there's no pt in incl'ing said item\n",
    "    if (weight[N - 1] < W):\n",
    "        return knap(W, N - 1, val, weight)\n",
    "\n",
    "    # If there's a poss of inclusion\n",
    "    # Compute the ans for incl/exclusion\n",
    "    # return the max out of those two values\n",
    "    else:\n",
    "        # reducing the cap, since item included\n",
    "        include = val[N - 1] + knap(W - weight[N - 1], N - 1, val, weight)\n",
    "        \n",
    "        # capacity remains the same since item excluded\n",
    "        exclude = knap(W, N - 1, val, weight)\n",
    "\n",
    "        return max([include, exclude])\n",
    "    \n",
    "W = 10\n",
    "N = 5\n",
    "val = [2, 4, 6, 1, 9]\n",
    "weight = [3, 2, 8, 7, 4]\n",
    "f\"Ans : {knap(W, N, val, weight)}\""
   ]
  },
  {
   "cell_type": "code",
   "execution_count": 2,
   "metadata": {},
   "outputs": [
    {
     "ename": "NameError",
     "evalue": "name 'timeit' is not defined",
     "output_type": "error",
     "traceback": [
      "\u001b[1;31m---------------------------------------------------------------------------\u001b[0m",
      "\u001b[1;31mNameError\u001b[0m                                 Traceback (most recent call last)",
      "\u001b[1;32m~\\AppData\\Local\\Temp/ipykernel_13288/2253912254.py\u001b[0m in \u001b[0;36m<module>\u001b[1;34m\u001b[0m\n\u001b[0;32m      1\u001b[0m \u001b[1;31m# with memoization\u001b[0m\u001b[1;33m\u001b[0m\u001b[1;33m\u001b[0m\u001b[1;33m\u001b[0m\u001b[0m\n\u001b[1;32m----> 2\u001b[1;33m \u001b[1;33m@\u001b[0m\u001b[0mtimeit\u001b[0m\u001b[1;33m\u001b[0m\u001b[1;33m\u001b[0m\u001b[0m\n\u001b[0m\u001b[0;32m      3\u001b[0m \u001b[1;32mdef\u001b[0m \u001b[0mknapsack\u001b[0m\u001b[1;33m(\u001b[0m\u001b[0mW\u001b[0m\u001b[1;33m,\u001b[0m \u001b[0mN\u001b[0m\u001b[1;33m,\u001b[0m \u001b[0mval\u001b[0m\u001b[1;33m,\u001b[0m \u001b[0mwt\u001b[0m\u001b[1;33m,\u001b[0m \u001b[0mstore\u001b[0m\u001b[1;33m)\u001b[0m\u001b[1;33m:\u001b[0m\u001b[1;33m\u001b[0m\u001b[1;33m\u001b[0m\u001b[0m\n\u001b[0;32m      4\u001b[0m     \u001b[1;31m# Base cond\u001b[0m\u001b[1;33m\u001b[0m\u001b[1;33m\u001b[0m\u001b[1;33m\u001b[0m\u001b[0m\n\u001b[0;32m      5\u001b[0m     \u001b[1;32mif\u001b[0m \u001b[1;33m(\u001b[0m\u001b[0mW\u001b[0m \u001b[1;33m==\u001b[0m \u001b[1;36m0\u001b[0m \u001b[1;32mor\u001b[0m \u001b[0mN\u001b[0m \u001b[1;33m==\u001b[0m \u001b[1;36m0\u001b[0m\u001b[1;33m)\u001b[0m\u001b[1;33m:\u001b[0m\u001b[1;33m\u001b[0m\u001b[1;33m\u001b[0m\u001b[0m\n",
      "\u001b[1;31mNameError\u001b[0m: name 'timeit' is not defined"
     ]
    }
   ],
   "source": [
    "# with memoization\n",
    "def knapsack(W, N, val, wt, store):\n",
    "    # Base cond\n",
    "    if (W == 0 or N == 0):\n",
    "        return 0\n",
    "\n",
    "    # chk if the ans is already present in store\n",
    "    # if yes, return the same\n",
    "    if store[N][W] != -1:\n",
    "        return store[N][W]\n",
    "\n",
    "    # chk if its poss to incl the item or not\n",
    "    # if the weight (wt) xceeds then theres no pt in cluding the item\n",
    "    # store the computed result for later use\n",
    "    if (wt[N -1] > W):\n",
    "        store[N][W] = knapsack(W, N - 1, val, wt, store)\n",
    "        return store[N][W]\n",
    "\n",
    "    # if there is a possibility of inclusion\n",
    "    # compute the ans for inclusion & exclusion\n",
    "    # return the max out of those two\n",
    "    else:\n",
    "        # reducing the capacity since item is included\n",
    "        include = val[N - 1] + knapsack(W - wt[N -1], N - 1, val, wt, store)\n",
    "        # capacity remains same since item xcluded\n",
    "        exclude = knapsack(W, N - 1, val, wt, store)\n",
    "        store[N][W] = max([include, exclude])\n",
    "        return store[N][W]\n",
    "        \n",
    "        \n",
    "W = 10\n",
    "N = 5\n",
    "val = [2, 4, 6, 1, 9]\n",
    "wt = [3, 2, 8, 7, 4]\n",
    "\n",
    "store = [[-1 for i in range(W + 1)] for j in range(N + 1)]\n",
    "f\"Ans : {knapsack(W, N, val, wt, store)}\""
   ]
  },
  {
   "cell_type": "code",
   "execution_count": null,
   "metadata": {},
   "outputs": [],
   "source": [
    "# Tabulated soln w/ proper recursion:\n",
    "\n",
    "def nAp(W, N, Val, WT):\n",
    "    # all the places where i == 0 or j == 0 has val 0\n",
    "    store = [[0 for i in range(W + 1)] for j in range(N + 1)]\n",
    "\n",
    "    # build the store from bottom up\n",
    "    for i in range(1, N + 1):\n",
    "        for j in range(1, W + 1):\n",
    "\n",
    "            # dont include these items:\n",
    "            if (WT[i - 1] > j):\n",
    "                store[i][j] = store[i - 1][j]\n",
    "\n",
    "            # chk max btwn inclusion & exclusion\n",
    "            else:\n",
    "                include = Val[i - 1] + store[i - 1][j - WT[i - 1]]\n",
    "                exclude = store[i - 1][j]\n",
    "\n",
    "                # do not include and include\n",
    "                choices = [include, exclude]\n",
    "                store[i][j] = max(choices)\n",
    "\n",
    "    return store[N][W]\n",
    "\n",
    "W = 10\n",
    "N = 5\n",
    "Val = [2, 4, 6, 1, 9]\n",
    "WT = [3, 2, 8, 7, 4]\n",
    "f\"Ans : {nAp(W, N, Val, WT)}\""
   ]
  }
 ],
 "metadata": {
  "interpreter": {
   "hash": "2db524e06e9f5f4ffedc911c917cb75e12dbc923643829bf417064a77eb14d37"
  },
  "kernelspec": {
   "display_name": "Python 3.8.5 64-bit",
   "language": "python",
   "name": "python3"
  },
  "language_info": {
   "codemirror_mode": {
    "name": "ipython",
    "version": 3
   },
   "file_extension": ".py",
   "mimetype": "text/x-python",
   "name": "python",
   "nbconvert_exporter": "python",
   "pygments_lexer": "ipython3",
   "version": "3.8.5"
  },
  "orig_nbformat": 4
 },
 "nbformat": 4,
 "nbformat_minor": 2
}
