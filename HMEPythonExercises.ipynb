{
 "cells": [
  {
   "cell_type": "code",
   "execution_count": 1,
   "metadata": {},
   "outputs": [
    {
     "data": {
      "text/plain": [
       "3"
      ]
     },
     "execution_count": 1,
     "metadata": {},
     "output_type": "execute_result"
    }
   ],
   "source": [
    "# chapter 2, Lambdas\n",
    "sum = lambda x, y: x + y\n",
    "sum(1, 2)"
   ]
  },
  {
   "cell_type": "code",
   "execution_count": 2,
   "metadata": {},
   "outputs": [
    {
     "data": {
      "text/plain": [
       "3"
      ]
     },
     "execution_count": 2,
     "metadata": {},
     "output_type": "execute_result"
    }
   ],
   "source": [
    "# equiv to a reg py func\n",
    "def sum(x, y):\n",
    "    return x + y\n",
    "\n",
    "sum(1, 2)"
   ]
  },
  {
   "cell_type": "markdown",
   "metadata": {},
   "source": [
    "### *higher-order* functions:\n",
    "#### A *higher-order* function is a func that either receives a function/(s) as input parameters or returns a function as its result.\n",
    "- An example of both cases:\n",
    " "
   ]
  },
  {
   "cell_type": "code",
   "execution_count": 3,
   "metadata": {},
   "outputs": [
    {
     "name": "stdout",
     "output_type": "stream",
     "text": [
      "Hi there!\n",
      "Hi there!\n",
      "Hi there!\n",
      "Hi there!\n",
      "Hi there!\n"
     ]
    }
   ],
   "source": [
    "def repeat_fn(fn, times):\n",
    "    for _ in range(times):\n",
    "        fn()\n",
    "\n",
    "   \n",
    "def say_hi():\n",
    "    print('Hi there!')\n",
    "\n",
    "\n",
    "repeat_fn(say_hi, 5)"
   ]
  },
  {
   "cell_type": "markdown",
   "metadata": {},
   "source": [
    " As you can see, repeat_fn function's 1st param is another func, which is executed as many times as the 2nd argument dictates. Then you define another function to simply print the string \"hi there!\".\n",
    " The result of calling the repeat_fn and passing it say_hi is those 5 greetings.\n",
    " The previous example could be rewritten using an anonymous lambda function:\n",
    " ```python\n",
    " def repeat_fn(fn, times):\n",
    "     for _ in range(times):\n",
    "         fn()\n",
    "\n",
    " repeat_fn(lambda: print(\"Hello!\"), 5)\n",
    " ```"
   ]
  },
  {
   "cell_type": "code",
   "execution_count": 4,
   "metadata": {},
   "outputs": [
    {
     "name": "stdout",
     "output_type": "stream",
     "text": [
      "Hello!\n",
      "Hello!\n",
      "Hello!\n",
      "Hello!\n",
      "Hello!\n"
     ]
    }
   ],
   "source": [
    "def repeat_fn(fn, times):\n",
    "     for _ in range(times):\n",
    "         fn()\n",
    "\n",
    "repeat_fn(lambda: print(\"Hello!\"), 5)"
   ]
  },
  {
   "cell_type": "markdown",
   "metadata": {},
   "source": [
    "### Functions as Function return values\n",
    "Here a function will return another function. Imagine you want to define validation functions that validate if a given string contains a seq of chars. You can write a fx named 'make_contains_validator' that takes a seq and returns a fx to validate strings that contain that seq."
   ]
  },
  {
   "cell_type": "code",
   "execution_count": 5,
   "metadata": {},
   "outputs": [
    {
     "name": "stdout",
     "output_type": "stream",
     "text": [
      "True\n",
      "--------------\n",
      "False\n"
     ]
    }
   ],
   "source": [
    "def make_contains_validator(seq):\n",
    "    return lambda string: seq in string\n",
    "\n",
    "# We can use this fx to generate validation functions, like the following:\n",
    "validate_contains_at = make_contains_validator('@')\n",
    "\n",
    "# which can be used to check whether the passed-in strings contain the @ character:\n",
    "# have to wrap both in print functions as the second running of the\n",
    "# function replaces the result of the first.\n",
    "print(validate_contains_at('foo@bar.com'))\n",
    "print('--------------')\n",
    "print(validate_contains_at('not this one'))"
   ]
  },
  {
   "cell_type": "markdown",
   "metadata": {},
   "source": [
    "#### Functions inside other functions:\n",
    "Another convenient technique used is defining a function inside another function. There are 2 good reasons why you'd want to do so.\n",
    "1. it gives the inner function access to everything inside the outer (parent) function, w/o needing to pass that information as parameters.\n",
    "2. The inner function may define some logic that we dont want to expose to the global name space/outside world."
   ]
  },
  {
   "cell_type": "code",
   "execution_count": 8,
   "metadata": {},
   "outputs": [
    {
     "ename": "IndentationError",
     "evalue": "expected an indented block after function definition on line 17 (871854584.py, line 21)",
     "output_type": "error",
     "traceback": [
      "\u001b[1;36m  Cell \u001b[1;32mIn[8], line 21\u001b[1;36m\u001b[0m\n\u001b[1;33m    def __private_fn():\u001b[0m\n\u001b[1;37m    ^\u001b[0m\n\u001b[1;31mIndentationError\u001b[0m\u001b[1;31m:\u001b[0m expected an indented block after function definition on line 17\n"
     ]
    }
   ],
   "source": [
    "def outer_fn(a, b):\n",
    "    c = a + b\n",
    "\n",
    "    def inner_fn():\n",
    "        # we have access to a, b and c here.\n",
    "        print(a, b, c)\n",
    "\n",
    "    inner_fn()\n",
    "\n",
    "\n",
    "# Defining subfunctions inside of functions is useful when a function's logic grows complex &&\n",
    "# it can be broken down into smaller tasks. Ofc, we could also split the function into smaller\n",
    "# functions all defined at the same level. In this case, to signal that those subfunctions are\n",
    "# not meant to be imported and consumed from outside the module.\n",
    "# Pep8 std naming: inner functions start with two underscores __private(), etc etc\n",
    "\n",
    "def public_fn():\n",
    "    # this function can be imported\n",
    "\n",
    "\n",
    "\n",
    "def __private_fn():\n",
    "    # this function should only be accessed from inside the module\n",
    "\n",
    "# Python has no access modifiers (public, private, etc); thus, all the code written at the top \n",
    "# level of a module, as in a python file, can be imported and used.\n",
    "# Remember that the two underscores are just a convention that should be respected."
   ]
  },
  {
   "attachments": {},
   "cell_type": "markdown",
   "metadata": {},
   "source": [
    "#### Filter, Map, & Reduce\n",
    "In functional programming, we never mutate a collection's items, but instead always create a new collection to reflect the changes of an operation over that collection to reflect the changes of an operation over that collection. There are 3 operations that form the cornerstone of functional programming and can accomplish every modification to a collection we can think of: \n",
    "- filter\n",
    "- map\n",
    "- reduce\n",
    " \n",
    " ## Filter\n",
    " The *filter* op takes a collection and creates a new collection where some items may have been left out. \n",
    "    The items are filtered according to a *predicate function*, where a fx that accepts one arg and returns either *True* or *False* depending on whether that argument passes a given test.\n",
    "    [Figure 2-1](/Figure_2_1.png)\n",
    " \n",
    " Figure 2-1 shows a source collection made of 4 elements: A, B, C and D. Below the collection is a box representing the predicate function, which determines which elements to keep and which to discard. Each element in the collection is passed to the predicate, and only those that pass the test are included in the resulting collection.\n",
    " Two ways to use filter: using the filter global function & if the collection is a list, using list comprehensions.\n",
    "    -- filter function *filter(<predicate_fn>, <collection>)*\n"
   ]
  },
  {
   "cell_type": "code",
   "execution_count": 9,
   "metadata": {},
   "outputs": [
    {
     "data": {
      "text/plain": [
       "[2, 4, 6, 8]"
      ]
     },
     "execution_count": 9,
     "metadata": {},
     "output_type": "execute_result"
    }
   ],
   "source": [
    "# write a predicate lambda function to test whether a number is even\n",
    "lambda n: n % 2 == 0\n",
    "\n",
    "# now use the lambda function to filter a list of numbers and obtain a new collection with only even numbers:\n",
    "numbers = [1, 2, 3, 4, 5, 6, 7, 8]\n",
    "evens = filter(lambda n: n % 2 == 0, numbers)\n",
    "list(evens)"
   ]
  },
  {
   "cell_type": "markdown",
   "metadata": {},
   "source": [
    "One thing to note: filter doesnt return a list, but rather an iterator. Iterators alloww for iteration over a collection of items, one at a time. You can consume all the iterator values and put them into a list using the *list* function, you can also consume the iterator using a *for* loop.\n",
    "```python\n",
    "for number in evens:\n",
    "    print(number)\n",
    "```\n"
   ]
  },
  {
   "attachments": {},
   "cell_type": "markdown",
   "metadata": {},
   "source": [
    "## Map\n",
    "The map operation creates a new collection by taking each item in the source collection and running it through a function, storing the results in a new collection. The new collection is the same size as the source collection.a\n",
    "    [Figure 2-2](/Figure_2_2.png)\n",
    "    Running the source collection of items A, B, C, and D through a mapping function, the result of the mapping is stored in a new collection.\n",
    "    The map global function receives two parameters: a mapping function and a source collection: *map(<mapping_fn>, <collection>)\n",
    "    This is how we would map a list of names to their length:\n",
    "\n",
    "```python\n",
    "names = ['Angel', 'Alvaro', 'Mery', 'Paul', 'Isabel']\n",
    "lengths = map(lambda names: len(name), names)\n",
    "list(lengths)\n",
    "\n",
    "for number in evens:\n",
    "    print(number)\n",
    "```"
   ]
  },
  {
   "attachments": {},
   "cell_type": "markdown",
   "metadata": {},
   "source": [
    "\n",
    "## Reduce\n",
    "The _reduce_ operation is the most complex, but at the same time, its the most versatile. It creates a new _collection_ that can have fewer items than, more items than, or the same number of items as the original. First it applies a reducer function to the first and second elements. It then applies the reducer function to the third element _and_ the result of the first application. Then to the fourth and the result of the second application. This way results accumulate. The result of the last application is the result of the reduce operation.\n",
    "\t[Figure 2-3](/Figure_2_3.png)\n",
    "\tThe reduce operation takes a collection of items and reduces it to a single value. The reducer function is applied to the first two elements of the collection, then to the result of the first application and the third element, and so on. The result of the last application is the result of the reduce operation.\n",
    "\tThe reduce global function receives two parameters: a _reducer_ function and a source collection: *reduce(<reducer_fn>, <collection>)*\n",
    "\tThis is how we would sum a list of numbers:\n",
    "\n",
    "There is no global _reduce_ function in python, but there is a _reduce_ function in the functools module. The functools module contains a number of useful functions that are not part of the core language. This function doesnt return an iterator, but rather returns the resulting collection or item directly.\n",
    "\n",
    "```python\n",
    "from functools import reduce\n",
    "letters = ['A', 'B', 'C', 'D']\n",
    "reduce(lambda result, letter: result + letter, letters)\n",
    "```\n",
    "\n",
    "Look at the two differences here, due to the different types involved: (int, and strings)\n",
    "```python\n",
    "from functools import reduce\n",
    "reduce(lamdba total_length, name: total_length + len(name), names)\n",
    "# This returns an error, which the interpreter will point out.\n",
    "\n",
    "reduce(lamdba total_length, name: total_length + len(name), names, 0)\n",
    "```\n",
    "One interesting note is that if the accumulated result and the items of the collection have different types, you can always concatenate the _map_ with a _reduce_ to obtain the same result.\n",
    "```python\n",
    "from functools import reduce\n",
    "names = ['Angel', 'Alvaro', 'Mery', 'Paul', 'Isabel']\n",
    "lengths = map(lambda name: len(name), names)\n",
    "reduce(lambda total_length, length: total_length + length, lengths)\n",
    "# 25\n",
    "```"
   ]
  },
  {
   "cell_type": "code",
   "execution_count": 11,
   "metadata": {},
   "outputs": [
    {
     "data": {
      "text/plain": [
       "25"
      ]
     },
     "execution_count": 11,
     "metadata": {},
     "output_type": "execute_result"
    }
   ],
   "source": [
    "from functools import reduce\n",
    "import operator\n",
    "\n",
    "names = ['Angel', 'Alvaro', 'Mery', 'Paul', 'Isabel']\n",
    "lengths = map(lambda name: len(name), names)\n",
    "reduce(operator.add, lengths)\n",
    "\n",
    "# operator.add is defined as\n",
    "# def add(a, b):\n",
    "#     \"Same as a + b\"\n",
    "#     return a + b"
   ]
  },
  {
   "cell_type": "code",
   "execution_count": 12,
   "metadata": {},
   "outputs": [
    {
     "data": {
      "text/plain": [
       "['Angel',\n",
       " 'Angel-Alvaro',\n",
       " 'Angel-Alvaro-Mery',\n",
       " 'Angel-Alvaro-Mery-Paul',\n",
       " 'Angel-Alvaro-Mery-Paul-Isabel']"
      ]
     },
     "execution_count": 12,
     "metadata": {},
     "output_type": "execute_result"
    }
   ],
   "source": [
    "from functools import reduce\n",
    "names = ['Angel', 'Alvaro', 'Mery', 'Paul', 'Isabel']\n",
    "\n",
    "def compute_next_name(names, name):\n",
    "\tif len(names) < 1:\n",
    "\t\treturn name\n",
    "\treturn names[-1] + '-' + name\n",
    "\n",
    "\n",
    "reduce(lambda result, name: result + [compute_next_name(result, name)], names, [])"
   ]
  },
  {
   "attachments": {},
   "cell_type": "markdown",
   "metadata": {},
   "source": [
    "## List Comprehensions\n",
    "\n",
    "List comprehensions have the following structure:\n",
    ">\t- <_expression_> for <_item_> in <_collection_> if <_predicate_>\n",
    ">\t- <_expression_> for <_item_> in <_list_>\n",
    "\n",
    "There are two parts to it:\n",
    ">\t- for <_item_> in <_list_> is the _for_ loop that iterates over the items in <_list_>.\n",
    ">\t- <_expression_> is a mapping expression to map <_item_> into something else.\n",
    "\n",
    "```python\n",
    " names = ['Angel', 'Alvaro', 'Mery', 'Paul', 'Isabel']\n",
    " [len(name) for name in names]\n",
    " # [5, 6, 4, 4, 6]\n",
    "```\n"
   ]
  },
  {
   "cell_type": "code",
   "execution_count": 13,
   "metadata": {},
   "outputs": [
    {
     "data": {
      "text/plain": [
       "['Angel', 'Alvaro']"
      ]
     },
     "execution_count": 13,
     "metadata": {},
     "output_type": "execute_result"
    }
   ],
   "source": [
    "[name for name in names if name.startswith('A')]"
   ]
  },
  {
   "cell_type": "code",
   "execution_count": null,
   "metadata": {},
   "outputs": [],
   "source": []
  }
 ],
 "metadata": {
  "interpreter": {
   "hash": "81794d4967e6c3204c66dcd87b604927b115b27c00565d3d43f05ba2f3a2cb0d"
  },
  "kernelspec": {
   "display_name": "Python 3.9.6 64-bit",
   "language": "python",
   "name": "python3"
  },
  "language_info": {
   "codemirror_mode": {
    "name": "ipython",
    "version": 3
   },
   "file_extension": ".py",
   "mimetype": "text/x-python",
   "name": "python",
   "nbconvert_exporter": "python",
   "pygments_lexer": "ipython3",
   "version": "3.10.8"
  },
  "orig_nbformat": 4
 },
 "nbformat": 4,
 "nbformat_minor": 2
}
